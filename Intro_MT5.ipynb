{
 "cells": [
  {
   "cell_type": "markdown",
   "id": "d973b850",
   "metadata": {},
   "source": [
    "# Operar no Meta Trader usando modelo"
   ]
  },
  {
   "cell_type": "markdown",
   "id": "920d89cb",
   "metadata": {},
   "source": [
    "## Usando o modelo do WebScraping_Fundamentus:"
   ]
  },
  {
   "cell_type": "code",
   "execution_count": 1,
   "id": "06457179",
   "metadata": {},
   "outputs": [],
   "source": [
    "from selenium import webdriver\n",
    "from selenium.webdriver.chrome.service import Service\n",
    "from webdriver_manager.chrome import ChromeDriverManager\n",
    "import pandas as pd"
   ]
  },
  {
   "cell_type": "code",
   "execution_count": 2,
   "id": "067f1911",
   "metadata": {},
   "outputs": [
    {
     "name": "stderr",
     "output_type": "stream",
     "text": [
      "C:\\Users\\dudiz\\AppData\\Local\\Temp\\ipykernel_9420\\1947053643.py:14: FutureWarning: The default value of regex will change from True to False in a future version. In addition, single character regular expressions will *not* be treated as literal strings when regex=True.\n",
      "  tabela['ROIC'] = tabela['ROIC'].str.replace(\".\", \"\")\n"
     ]
    }
   ],
   "source": [
    "driver = webdriver.Chrome(service=Service(ChromeDriverManager().install()))\n",
    "\n",
    "url = 'https://www.fundamentus.com.br/resultado.php'\n",
    "\n",
    "driver.get(url)\n",
    "local_tabela = '/html/body/div[1]/div[2]/table'\n",
    "elemento = driver.find_element(\"xpath\", local_tabela)\n",
    "html_tabela = elemento.get_attribute('outerHTML')\n",
    "tabela = pd.read_html(str(html_tabela), thousands = '.', decimal = ',')[0]\n",
    "\n",
    "tabela = tabela.set_index(\"Papel\")\n",
    "tabela = tabela[['Cotação', 'EV/EBIT', 'ROIC', 'Liq.2meses']]\n",
    "tabela['ROIC'] = tabela['ROIC'].str.replace(\"%\", \"\")\n",
    "tabela['ROIC'] = tabela['ROIC'].str.replace(\".\", \"\")\n",
    "tabela['ROIC'] = tabela['ROIC'].str.replace(\",\", \".\")\n",
    "tabela['ROIC'] = tabela['ROIC'].astype(float)\n",
    "\n",
    "tabela = tabela[tabela['Liq.2meses'] > 1000000]\n",
    "tabela = tabela[tabela['EV/EBIT'] > 0]\n",
    "tabela = tabela[tabela['ROIC'] > 0]\n",
    "\n",
    "tabela['ranking_ev_ebit'] = tabela['EV/EBIT'].rank(ascending = True)\n",
    "tabela['ranking_roic'] = tabela['ROIC'].rank(ascending = False)\n",
    "tabela['ranking_total'] = tabela['ranking_ev_ebit'] + tabela['ranking_roic']\n",
    "\n",
    "tabela = tabela.sort_values('ranking_total')"
   ]
  },
  {
   "cell_type": "code",
   "execution_count": 4,
   "id": "5b5797b8",
   "metadata": {},
   "outputs": [
    {
     "data": {
      "text/plain": [
       "Index(['PSSA3', 'PETR4', 'PETR3', 'UNIP6', 'KEPL3', 'WIZC3', 'VLID3', 'GOAU4',\n",
       "       'PLPL3', 'FESA4'],\n",
       "      dtype='object', name='Papel')"
      ]
     },
     "execution_count": 4,
     "metadata": {},
     "output_type": "execute_result"
    }
   ],
   "source": [
    "# Seleciona as 10 principais entradas do DataFrame 'tabela'\n",
    "tabela = tabela.head(10)\n",
    "\n",
    "# Obtém os rótulos (tickers) correspondentes a essas 10 principais entradas\n",
    "tickers = tabela.index\n",
    "\n",
    "# Exibe os tickers\n",
    "tickers"
   ]
  },
  {
   "cell_type": "markdown",
   "id": "7cb9284b",
   "metadata": {},
   "source": [
    "## Baixa e configura o MT5, cada corretora configura de uma forma"
   ]
  },
  {
   "cell_type": "code",
   "execution_count": 5,
   "id": "7ec32a03",
   "metadata": {},
   "outputs": [
    {
     "name": "stdout",
     "output_type": "stream",
     "text": [
      "Collecting MetaTrader5\n",
      "  Downloading MetaTrader5-5.0.45-cp311-cp311-win_amd64.whl (49 kB)\n",
      "     ---------------------------------------- 0.0/49.9 kB ? eta -:--:--\n",
      "     -------------------------------- ------- 41.0/49.9 kB ? eta -:--:--\n",
      "     -------------------------------------- 49.9/49.9 kB 842.9 kB/s eta 0:00:00\n",
      "Requirement already satisfied: numpy>=1.7 in c:\\users\\dudiz\\anaconda3\\lib\\site-packages (from MetaTrader5) (1.24.3)\n",
      "Installing collected packages: MetaTrader5\n",
      "Successfully installed MetaTrader5-5.0.45\n"
     ]
    }
   ],
   "source": [
    "!pip install MetaTrader5"
   ]
  },
  {
   "cell_type": "markdown",
   "id": "c456b6de",
   "metadata": {},
   "source": [
    "Você está instalando o pacote **MetaTrader5**, que é uma biblioteca Python que **permite a integração com a plataforma de negociação MetaTrader 5**. Esta biblioteca pode ser útil para automatizar operações de negociação e análise de dados no MetaTrader 5."
   ]
  },
  {
   "cell_type": "code",
   "execution_count": 6,
   "id": "1225d084",
   "metadata": {},
   "outputs": [],
   "source": [
    "import MetaTrader5 as mt5"
   ]
  },
  {
   "cell_type": "code",
   "execution_count": 7,
   "id": "0a097fc7",
   "metadata": {},
   "outputs": [
    {
     "data": {
      "text/plain": [
       "False"
      ]
     },
     "execution_count": 7,
     "metadata": {},
     "output_type": "execute_result"
    }
   ],
   "source": [
    "mt5.initialize()"
   ]
  },
  {
   "cell_type": "markdown",
   "id": "0602fce6",
   "metadata": {},
   "source": [
    "O comando **mt5.initialize()** inicializa a conexão com a plataforma MetaTrader 5, permitindo que você se comunique e execute operações a partir do Python. Essa inicialização é necessária antes de usar qualquer funcionalidade da API do MetaTrader 5."
   ]
  },
  {
   "cell_type": "markdown",
   "id": "b9e89eea",
   "metadata": {},
   "source": [
    "### Documentação do MT5 "
   ]
  },
  {
   "cell_type": "markdown",
   "id": "366b9f9a",
   "metadata": {},
   "source": [
    "https://www.mql5.com/en/docs/python_metatrader5"
   ]
  },
  {
   "cell_type": "markdown",
   "id": "7c0375fa",
   "metadata": {},
   "source": [
    "## Dicionário da ordem de compra"
   ]
  },
  {
   "cell_type": "code",
   "execution_count": 8,
   "id": "f9eea83b",
   "metadata": {},
   "outputs": [
    {
     "ename": "AttributeError",
     "evalue": "'NoneType' object has no attribute 'ask'",
     "output_type": "error",
     "traceback": [
      "\u001b[1;31m---------------------------------------------------------------------------\u001b[0m",
      "\u001b[1;31mAttributeError\u001b[0m                            Traceback (most recent call last)",
      "Cell \u001b[1;32mIn[8], line 8\u001b[0m\n\u001b[0;32m      5\u001b[0m mt5\u001b[38;5;241m.\u001b[39msymbol_select(ticker)\n\u001b[0;32m      7\u001b[0m \u001b[38;5;66;03m# Obtém o preço de venda atual do ativo\u001b[39;00m\n\u001b[1;32m----> 8\u001b[0m preco \u001b[38;5;241m=\u001b[39m mt5\u001b[38;5;241m.\u001b[39msymbol_info(ticker)\u001b[38;5;241m.\u001b[39mask\n\u001b[0;32m     10\u001b[0m \u001b[38;5;66;03m# Define a quantidade a ser comprada (neste caso, 100 unidades)\u001b[39;00m\n\u001b[0;32m     11\u001b[0m quantidade \u001b[38;5;241m=\u001b[39m \u001b[38;5;241m100.0\u001b[39m\n",
      "\u001b[1;31mAttributeError\u001b[0m: 'NoneType' object has no attribute 'ask'"
     ]
    }
   ],
   "source": [
    "# Itera sobre os tickers disponíveis na lista 'tickers'\n",
    "for ticker in tickers:\n",
    "\n",
    "    # Seleciona o símbolo (ativo) para o qual a ordem será enviada\n",
    "    mt5.symbol_select(ticker)\n",
    "    \n",
    "    # Obtém o preço de venda atual do ativo\n",
    "    preco = mt5.symbol_info(ticker).ask\n",
    "    \n",
    "    # Define a quantidade a ser comprada (neste caso, 100 unidades)\n",
    "    quantidade = 100.0\n",
    "    \n",
    "    # Define os parâmetros da ordem de compra\n",
    "    ordem_compra = {\n",
    "        \"action\": mt5.TRADE_ACTION_DEAL,\n",
    "        \"symbol\": ticker,\n",
    "        \"volume\": quantidade,\n",
    "        \"type\": mt5.ORDER_TYPE_BUY,\n",
    "        \"price\": preco,\n",
    "        \"magic\": 1,\n",
    "        \"comment\": \"Trades hackeando a bolsa\",\n",
    "        \"type_time\": mt5.ORDER_TIME_DAY,\n",
    "        \"type_filling\": mt5.ORDER_FILLING_RETURN,\n",
    "    }\n",
    "    \n",
    "    # Envia a ordem de compra\n",
    "    compra = mt5.order_send(ordem_compra)\n",
    "    \n",
    "    # Imprime o resultado da tentativa de envio da ordem\n",
    "    print(compra)"
   ]
  },
  {
   "cell_type": "code",
   "execution_count": null,
   "id": "97892085",
   "metadata": {},
   "outputs": [],
   "source": []
  }
 ],
 "metadata": {
  "kernelspec": {
   "display_name": "Python 3 (ipykernel)",
   "language": "python",
   "name": "python3"
  },
  "language_info": {
   "codemirror_mode": {
    "name": "ipython",
    "version": 3
   },
   "file_extension": ".py",
   "mimetype": "text/x-python",
   "name": "python",
   "nbconvert_exporter": "python",
   "pygments_lexer": "ipython3",
   "version": "3.11.4"
  }
 },
 "nbformat": 4,
 "nbformat_minor": 5
}
